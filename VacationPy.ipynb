{
 "metadata": {
  "language_info": {
   "codemirror_mode": {
    "name": "ipython",
    "version": 3
   },
   "file_extension": ".py",
   "mimetype": "text/x-python",
   "name": "python",
   "nbconvert_exporter": "python",
   "pygments_lexer": "ipython3",
   "version": "3.7.10"
  },
  "orig_nbformat": 2,
  "kernelspec": {
   "name": "python3710jvsc74a57bd0bd4d8d9e0fa2feb3f750a60b378f028d31cf0c96e16eb78567932803fc4cc3a7",
   "display_name": "Python 3.7.10 64-bit ('PythonData': conda)"
  },
  "metadata": {
   "interpreter": {
    "hash": "12495dda3933ae8b8e0c3c7ecc6a6e55023f0ed2c2b9c3ebcdd227d4de01f6a0"
   }
  }
 },
 "nbformat": 4,
 "nbformat_minor": 2,
 "cells": [
  {
   "cell_type": "code",
   "execution_count": 2,
   "metadata": {},
   "outputs": [],
   "source": [
    "# Import the dependencies\n",
    "import pandas as pd\n",
    "import gmaps\n",
    "import requests\n",
    "# Import the API key\n",
    "from config import g_key"
   ]
  },
  {
   "cell_type": "code",
   "execution_count": 3,
   "metadata": {},
   "outputs": [
    {
     "output_type": "execute_result",
     "data": {
      "text/plain": [
       "   City_ID         City Country                 Date      Lat       Lng  \\\n",
       "0        0      Klyuchi      RU  2021-05-26 17:26:25  52.2667   79.1667   \n",
       "1        1      Aklavik      CA  2021-05-26 17:26:26  68.2191 -135.0107   \n",
       "2        2    Jamestown      US  2021-05-26 17:22:14  42.0970  -79.2353   \n",
       "3        3       Albany      US  2021-05-26 17:26:21  42.6001  -73.9662   \n",
       "4        4  New Norfolk      AU  2021-05-26 17:26:26 -42.7826  147.0587   \n",
       "\n",
       "   Max Temp  Humidity  Cloudiness  Wind Speed  \n",
       "0     82.76        22          24        8.28  \n",
       "1     34.52        74          90       13.80  \n",
       "2     80.02        61          40        7.00  \n",
       "3     89.28        52          41        3.00  \n",
       "4     46.65        65          98        1.99  "
      ],
      "text/html": "<div>\n<style scoped>\n    .dataframe tbody tr th:only-of-type {\n        vertical-align: middle;\n    }\n\n    .dataframe tbody tr th {\n        vertical-align: top;\n    }\n\n    .dataframe thead th {\n        text-align: right;\n    }\n</style>\n<table border=\"1\" class=\"dataframe\">\n  <thead>\n    <tr style=\"text-align: right;\">\n      <th></th>\n      <th>City_ID</th>\n      <th>City</th>\n      <th>Country</th>\n      <th>Date</th>\n      <th>Lat</th>\n      <th>Lng</th>\n      <th>Max Temp</th>\n      <th>Humidity</th>\n      <th>Cloudiness</th>\n      <th>Wind Speed</th>\n    </tr>\n  </thead>\n  <tbody>\n    <tr>\n      <th>0</th>\n      <td>0</td>\n      <td>Klyuchi</td>\n      <td>RU</td>\n      <td>2021-05-26 17:26:25</td>\n      <td>52.2667</td>\n      <td>79.1667</td>\n      <td>82.76</td>\n      <td>22</td>\n      <td>24</td>\n      <td>8.28</td>\n    </tr>\n    <tr>\n      <th>1</th>\n      <td>1</td>\n      <td>Aklavik</td>\n      <td>CA</td>\n      <td>2021-05-26 17:26:26</td>\n      <td>68.2191</td>\n      <td>-135.0107</td>\n      <td>34.52</td>\n      <td>74</td>\n      <td>90</td>\n      <td>13.80</td>\n    </tr>\n    <tr>\n      <th>2</th>\n      <td>2</td>\n      <td>Jamestown</td>\n      <td>US</td>\n      <td>2021-05-26 17:22:14</td>\n      <td>42.0970</td>\n      <td>-79.2353</td>\n      <td>80.02</td>\n      <td>61</td>\n      <td>40</td>\n      <td>7.00</td>\n    </tr>\n    <tr>\n      <th>3</th>\n      <td>3</td>\n      <td>Albany</td>\n      <td>US</td>\n      <td>2021-05-26 17:26:21</td>\n      <td>42.6001</td>\n      <td>-73.9662</td>\n      <td>89.28</td>\n      <td>52</td>\n      <td>41</td>\n      <td>3.00</td>\n    </tr>\n    <tr>\n      <th>4</th>\n      <td>4</td>\n      <td>New Norfolk</td>\n      <td>AU</td>\n      <td>2021-05-26 17:26:26</td>\n      <td>-42.7826</td>\n      <td>147.0587</td>\n      <td>46.65</td>\n      <td>65</td>\n      <td>98</td>\n      <td>1.99</td>\n    </tr>\n  </tbody>\n</table>\n</div>"
     },
     "metadata": {},
     "execution_count": 3
    }
   ],
   "source": [
    "# Store the CSV you saved created in part one into a DataFrame\n",
    "city_data_df = pd.read_csv('weather_data/cities.csv')\n",
    "city_data_df.head()"
   ]
  },
  {
   "cell_type": "code",
   "execution_count": 4,
   "metadata": {},
   "outputs": [
    {
     "output_type": "execute_result",
     "data": {
      "text/plain": [
       "City_ID         int64\n",
       "City           object\n",
       "Country        object\n",
       "Date           object\n",
       "Lat           float64\n",
       "Lng           float64\n",
       "Max Temp      float64\n",
       "Humidity        int64\n",
       "Cloudiness      int64\n",
       "Wind Speed    float64\n",
       "dtype: object"
      ]
     },
     "metadata": {},
     "execution_count": 4
    }
   ],
   "source": [
    "city_data_df.dtypes"
   ]
  },
  {
   "cell_type": "code",
   "execution_count": 5,
   "metadata": {},
   "outputs": [],
   "source": [
    "# Configure gmaps to use your Google API key\n",
    "gmaps.configure(api_key=g_key)"
   ]
  },
  {
   "cell_type": "code",
   "execution_count": 22,
   "metadata": {},
   "outputs": [
    {
     "output_type": "display_data",
     "data": {
      "text/plain": "Figure(layout=FigureLayout(height='420px'))",
      "application/vnd.jupyter.widget-view+json": {
       "version_major": 2,
       "version_minor": 0,
       "model_id": "8ccd531f31b44e1fb3ff3b574805a4d7"
      }
     },
     "metadata": {}
    }
   ],
   "source": [
    "# Heatmap of temp\n",
    "# Get the lat and lng\n",
    "locations = city_data_df[['Lat','Lng']]\n",
    "# Get the max temp\n",
    "max_temp = city_data_df['Max Temp']\n",
    "temps = []\n",
    "for temp in max_temp:\n",
    "    if temp >= 0:\n",
    "        temps.append(temp)\n",
    "# Assign the figure\n",
    "fig = gmaps.figure(center=(30.0,31.0), zoom_level=1.5)\n",
    "# Assign the heatmap variable\n",
    "heat_layer = gmaps.heatmap_layer(locations, weights=temps, dissipating=False, max_intensity=300, point_radius=4)\n",
    "# Add the heatmap layer\n",
    "fig.add_layer(heat_layer)\n",
    "# Call the figure to plot the data\n",
    "fig"
   ]
  },
  {
   "cell_type": "code",
   "execution_count": 24,
   "metadata": {},
   "outputs": [
    {
     "output_type": "display_data",
     "data": {
      "text/plain": "Figure(layout=FigureLayout(height='420px'))",
      "application/vnd.jupyter.widget-view+json": {
       "version_major": 2,
       "version_minor": 0,
       "model_id": "87d6e117fdaf478d8588f2d6d4989c87"
      }
     },
     "metadata": {}
    }
   ],
   "source": [
    "# Heatmap of percent Humidity\n",
    "locations = city_data_df[['Lat','Lng']]\n",
    "humidity = city_data_df['Humidity']\n",
    "fig=gmaps.figure(center=(30.0,31.0), zoom_level=1.5)\n",
    "heat_layer = gmaps.heatmap_layer(locations, weights=temps, dissipating=False, max_intensity=300, point_radius=4)\n",
    "fig.add_layer(heat_layer)\n",
    "fig"
   ]
  },
  {
   "cell_type": "code",
   "execution_count": 27,
   "metadata": {},
   "outputs": [
    {
     "output_type": "display_data",
     "data": {
      "text/plain": "Figure(layout=FigureLayout(height='420px'))",
      "application/vnd.jupyter.widget-view+json": {
       "version_major": 2,
       "version_minor": 0,
       "model_id": "6d48e3a80086487aa6dcd48793a5456b"
      }
     },
     "metadata": {}
    }
   ],
   "source": [
    "# Heatmap of percent cloudiness\n",
    "locations = city_data_df[['Lat','Lng']]\n",
    "clouds = city_data_df['Cloudiness']\n",
    "fig = gmaps.figure(center=(30.0,31.0), zoom_level=1.5)\n",
    "heat_layer = gmaps.heatmap_layer(locations, weights=clouds, dissipating=False, max_intensity=300, point_radius=4)\n",
    "fig.add_layer(heat_layer)\n",
    "fig"
   ]
  },
  {
   "cell_type": "code",
   "execution_count": 31,
   "metadata": {},
   "outputs": [
    {
     "output_type": "display_data",
     "data": {
      "text/plain": "Figure(layout=FigureLayout(height='420px'))",
      "application/vnd.jupyter.widget-view+json": {
       "version_major": 2,
       "version_minor": 0,
       "model_id": "b7b7580b5a2a4edb90d189a9fcb419a7"
      }
     },
     "metadata": {}
    }
   ],
   "source": [
    "locations = city_data_df[['Lat','Lng']]\n",
    "wind = city_data_df['Wind Speed']\n",
    "fig = gmaps.figure(center=(30.0,30.1), zoom_level=1.5)\n",
    "heat_layer = gmaps.heatmap_layer(locations, weights=wind, dissipating=False, max_intensity=300, point_radius=4)\n",
    "fig.add_layer(heat_layer)\n",
    "fig"
   ]
  },
  {
   "cell_type": "code",
   "execution_count": 32,
   "metadata": {},
   "outputs": [],
   "source": [
    "# Ask the customer to add a min and max temp value\n",
    "min_temp = float(input('What is the minimum temperature you would like for your trip? '))\n",
    "max_temp = float(input('What is the maximum temperature you would like for your trip? '))"
   ]
  },
  {
   "cell_type": "code",
   "execution_count": 33,
   "metadata": {},
   "outputs": [
    {
     "output_type": "execute_result",
     "data": {
      "text/plain": [
       "    City_ID       City Country                 Date      Lat       Lng  \\\n",
       "0         0    Klyuchi      RU  2021-05-26 17:26:25  52.2667   79.1667   \n",
       "2         2  Jamestown      US  2021-05-26 17:22:14  42.0970  -79.2353   \n",
       "3         3     Albany      US  2021-05-26 17:26:21  42.6001  -73.9662   \n",
       "7         7    Manggar      ID  2021-05-26 17:26:27  -2.8833  108.2667   \n",
       "15       15    Rikitea      PF  2021-05-26 17:26:29 -23.1203 -134.9692   \n",
       "21       21       Hilo      US  2021-05-26 17:26:30  19.7297 -155.0900   \n",
       "28       28     Atuona      PF  2021-05-26 17:23:39  -9.8000 -139.0333   \n",
       "35       35   Victoria      HK  2021-05-26 17:25:01  22.2855  114.1577   \n",
       "39       39   Bengkulu      ID  2021-05-26 17:24:05  -3.8004  102.2655   \n",
       "50       50     Kokopo      PG  2021-05-26 17:26:37  -4.3520  152.2633   \n",
       "\n",
       "    Max Temp  Humidity  Cloudiness  Wind Speed  \n",
       "0      82.76        22          24        8.28  \n",
       "2      80.02        61          40        7.00  \n",
       "3      89.28        52          41        3.00  \n",
       "7      83.25        77          83        7.94  \n",
       "15     76.71        79          38       25.12  \n",
       "21     75.25        79          90        5.75  \n",
       "28     78.89        73          33       11.88  \n",
       "35     86.32        84          68        1.99  \n",
       "39     78.10        84         100        4.63  \n",
       "50     75.79        91         100        5.59  "
      ],
      "text/html": "<div>\n<style scoped>\n    .dataframe tbody tr th:only-of-type {\n        vertical-align: middle;\n    }\n\n    .dataframe tbody tr th {\n        vertical-align: top;\n    }\n\n    .dataframe thead th {\n        text-align: right;\n    }\n</style>\n<table border=\"1\" class=\"dataframe\">\n  <thead>\n    <tr style=\"text-align: right;\">\n      <th></th>\n      <th>City_ID</th>\n      <th>City</th>\n      <th>Country</th>\n      <th>Date</th>\n      <th>Lat</th>\n      <th>Lng</th>\n      <th>Max Temp</th>\n      <th>Humidity</th>\n      <th>Cloudiness</th>\n      <th>Wind Speed</th>\n    </tr>\n  </thead>\n  <tbody>\n    <tr>\n      <th>0</th>\n      <td>0</td>\n      <td>Klyuchi</td>\n      <td>RU</td>\n      <td>2021-05-26 17:26:25</td>\n      <td>52.2667</td>\n      <td>79.1667</td>\n      <td>82.76</td>\n      <td>22</td>\n      <td>24</td>\n      <td>8.28</td>\n    </tr>\n    <tr>\n      <th>2</th>\n      <td>2</td>\n      <td>Jamestown</td>\n      <td>US</td>\n      <td>2021-05-26 17:22:14</td>\n      <td>42.0970</td>\n      <td>-79.2353</td>\n      <td>80.02</td>\n      <td>61</td>\n      <td>40</td>\n      <td>7.00</td>\n    </tr>\n    <tr>\n      <th>3</th>\n      <td>3</td>\n      <td>Albany</td>\n      <td>US</td>\n      <td>2021-05-26 17:26:21</td>\n      <td>42.6001</td>\n      <td>-73.9662</td>\n      <td>89.28</td>\n      <td>52</td>\n      <td>41</td>\n      <td>3.00</td>\n    </tr>\n    <tr>\n      <th>7</th>\n      <td>7</td>\n      <td>Manggar</td>\n      <td>ID</td>\n      <td>2021-05-26 17:26:27</td>\n      <td>-2.8833</td>\n      <td>108.2667</td>\n      <td>83.25</td>\n      <td>77</td>\n      <td>83</td>\n      <td>7.94</td>\n    </tr>\n    <tr>\n      <th>15</th>\n      <td>15</td>\n      <td>Rikitea</td>\n      <td>PF</td>\n      <td>2021-05-26 17:26:29</td>\n      <td>-23.1203</td>\n      <td>-134.9692</td>\n      <td>76.71</td>\n      <td>79</td>\n      <td>38</td>\n      <td>25.12</td>\n    </tr>\n    <tr>\n      <th>21</th>\n      <td>21</td>\n      <td>Hilo</td>\n      <td>US</td>\n      <td>2021-05-26 17:26:30</td>\n      <td>19.7297</td>\n      <td>-155.0900</td>\n      <td>75.25</td>\n      <td>79</td>\n      <td>90</td>\n      <td>5.75</td>\n    </tr>\n    <tr>\n      <th>28</th>\n      <td>28</td>\n      <td>Atuona</td>\n      <td>PF</td>\n      <td>2021-05-26 17:23:39</td>\n      <td>-9.8000</td>\n      <td>-139.0333</td>\n      <td>78.89</td>\n      <td>73</td>\n      <td>33</td>\n      <td>11.88</td>\n    </tr>\n    <tr>\n      <th>35</th>\n      <td>35</td>\n      <td>Victoria</td>\n      <td>HK</td>\n      <td>2021-05-26 17:25:01</td>\n      <td>22.2855</td>\n      <td>114.1577</td>\n      <td>86.32</td>\n      <td>84</td>\n      <td>68</td>\n      <td>1.99</td>\n    </tr>\n    <tr>\n      <th>39</th>\n      <td>39</td>\n      <td>Bengkulu</td>\n      <td>ID</td>\n      <td>2021-05-26 17:24:05</td>\n      <td>-3.8004</td>\n      <td>102.2655</td>\n      <td>78.10</td>\n      <td>84</td>\n      <td>100</td>\n      <td>4.63</td>\n    </tr>\n    <tr>\n      <th>50</th>\n      <td>50</td>\n      <td>Kokopo</td>\n      <td>PG</td>\n      <td>2021-05-26 17:26:37</td>\n      <td>-4.3520</td>\n      <td>152.2633</td>\n      <td>75.79</td>\n      <td>91</td>\n      <td>100</td>\n      <td>5.59</td>\n    </tr>\n  </tbody>\n</table>\n</div>"
     },
     "metadata": {},
     "execution_count": 33
    }
   ],
   "source": [
    "# Filter the dataset to find the cities that fit the criteria\n",
    "preferred_cities_df = city_data_df.loc[(city_data_df['Max Temp'] <= max_temp) & (city_data_df['Max Temp'] >= min_temp)]\n",
    "preferred_cities_df.head(10)"
   ]
  },
  {
   "cell_type": "code",
   "execution_count": 35,
   "metadata": {},
   "outputs": [
    {
     "output_type": "execute_result",
     "data": {
      "text/plain": [
       "          City Country  Max Temp      Lat       Lng Hotel Name\n",
       "0      Klyuchi      RU     82.76  52.2667   79.1667           \n",
       "1      Aklavik      CA     34.52  68.2191 -135.0107           \n",
       "2    Jamestown      US     80.02  42.0970  -79.2353           \n",
       "3       Albany      US     89.28  42.6001  -73.9662           \n",
       "4  New Norfolk      AU     46.65 -42.7826  147.0587           "
      ],
      "text/html": "<div>\n<style scoped>\n    .dataframe tbody tr th:only-of-type {\n        vertical-align: middle;\n    }\n\n    .dataframe tbody tr th {\n        vertical-align: top;\n    }\n\n    .dataframe thead th {\n        text-align: right;\n    }\n</style>\n<table border=\"1\" class=\"dataframe\">\n  <thead>\n    <tr style=\"text-align: right;\">\n      <th></th>\n      <th>City</th>\n      <th>Country</th>\n      <th>Max Temp</th>\n      <th>Lat</th>\n      <th>Lng</th>\n      <th>Hotel Name</th>\n    </tr>\n  </thead>\n  <tbody>\n    <tr>\n      <th>0</th>\n      <td>Klyuchi</td>\n      <td>RU</td>\n      <td>82.76</td>\n      <td>52.2667</td>\n      <td>79.1667</td>\n      <td></td>\n    </tr>\n    <tr>\n      <th>1</th>\n      <td>Aklavik</td>\n      <td>CA</td>\n      <td>34.52</td>\n      <td>68.2191</td>\n      <td>-135.0107</td>\n      <td></td>\n    </tr>\n    <tr>\n      <th>2</th>\n      <td>Jamestown</td>\n      <td>US</td>\n      <td>80.02</td>\n      <td>42.0970</td>\n      <td>-79.2353</td>\n      <td></td>\n    </tr>\n    <tr>\n      <th>3</th>\n      <td>Albany</td>\n      <td>US</td>\n      <td>89.28</td>\n      <td>42.6001</td>\n      <td>-73.9662</td>\n      <td></td>\n    </tr>\n    <tr>\n      <th>4</th>\n      <td>New Norfolk</td>\n      <td>AU</td>\n      <td>46.65</td>\n      <td>-42.7826</td>\n      <td>147.0587</td>\n      <td></td>\n    </tr>\n  </tbody>\n</table>\n</div>"
     },
     "metadata": {},
     "execution_count": 35
    }
   ],
   "source": [
    "# Create DataFrame called hotel_df to store hotel names along with city, country, max temp, and coordinates\n",
    "hotel_df = city_data_df[['City','Country','Max Temp','Lat','Lng']].copy()\n",
    "hotel_df['Hotel Name'] = ''\n",
    "hotel_df.head()"
   ]
  },
  {
   "cell_type": "code",
   "execution_count": 37,
   "metadata": {},
   "outputs": [
    {
     "output_type": "stream",
     "name": "stdout",
     "text": [
      "Hotel not found... skipping.\n",
      "Hotel not found... skipping.\n",
      "Hotel not found... skipping.\n",
      "Hotel not found... skipping.\n",
      "Hotel not found... skipping.\n",
      "Hotel not found... skipping.\n",
      "Hotel not found... skipping.\n",
      "Hotel not found... skipping.\n",
      "Hotel not found... skipping.\n",
      "Hotel not found... skipping.\n",
      "Hotel not found... skipping.\n",
      "Hotel not found... skipping.\n",
      "Hotel not found... skipping.\n",
      "Hotel not found... skipping.\n",
      "Hotel not found... skipping.\n",
      "Hotel not found... skipping.\n",
      "Hotel not found... skipping.\n",
      "Hotel not found... skipping.\n",
      "Hotel not found... skipping.\n",
      "Hotel not found... skipping.\n",
      "Hotel not found... skipping.\n",
      "Hotel not found... skipping.\n",
      "Hotel not found... skipping.\n",
      "Hotel not found... skipping.\n",
      "Hotel not found... skipping.\n",
      "Hotel not found... skipping.\n",
      "Hotel not found... skipping.\n",
      "Hotel not found... skipping.\n",
      "Hotel not found... skipping.\n",
      "Hotel not found... skipping.\n",
      "Hotel not found... skipping.\n",
      "Hotel not found... skipping.\n",
      "Hotel not found... skipping.\n",
      "Hotel not found... skipping.\n",
      "Hotel not found... skipping.\n",
      "Hotel not found... skipping.\n",
      "Hotel not found... skipping.\n",
      "Hotel not found... skipping.\n",
      "Hotel not found... skipping.\n",
      "Hotel not found... skipping.\n",
      "Hotel not found... skipping.\n",
      "Hotel not found... skipping.\n",
      "Hotel not found... skipping.\n",
      "Hotel not found... skipping.\n",
      "Hotel not found... skipping.\n",
      "Hotel not found... skipping.\n",
      "Hotel not found... skipping.\n",
      "Hotel not found... skipping.\n",
      "Hotel not found... skipping.\n",
      "Hotel not found... skipping.\n",
      "Hotel not found... skipping.\n",
      "Hotel not found... skipping.\n",
      "Hotel not found... skipping.\n",
      "Hotel not found... skipping.\n",
      "Hotel not found... skipping.\n",
      "Hotel not found... skipping.\n",
      "Hotel not found... skipping.\n"
     ]
    }
   ],
   "source": [
    "# Set parameters to search for a hotel\n",
    "params = {\n",
    "    'radius': 5000,\n",
    "    'type':'lodging',\n",
    "    'key': g_key\n",
    "}\n",
    "\n",
    "# Iterate through the DataFrame\n",
    "for index, row in hotel_df.iterrows():\n",
    "    # Get the latitude and longitude\n",
    "    lat = row['Lat']\n",
    "    lng = row['Lng']\n",
    "\n",
    "    # Add the latitude and longitude to location key for the params dictionary\n",
    "    params['location'] = f'{lat},{lng}'\n",
    "\n",
    "    # Use the search term: 'lodging' and our latitude and longitude\n",
    "    base_url = \"https://maps.googleapis.com/maps/api/place/nearbysearch/json\"\n",
    "    # Make request and get the JSON data from the search\n",
    "    hotels = requests.get(base_url, params=params).json()\n",
    "    # Grab the first hotel from the results and store the name\n",
    "    try:\n",
    "        hotel_df.loc[index, 'Hotel Name'] = hotels['results'][0]['name']\n",
    "    except (IndexError):\n",
    "        print('Hotel not found... skipping.')"
   ]
  },
  {
   "cell_type": "code",
   "execution_count": 38,
   "metadata": {},
   "outputs": [
    {
     "output_type": "execute_result",
     "data": {
      "text/plain": [
       "            City Country  Max Temp      Lat       Lng  \\\n",
       "0        Klyuchi      RU     82.76  52.2667   79.1667   \n",
       "1        Aklavik      CA     34.52  68.2191 -135.0107   \n",
       "2      Jamestown      US     80.02  42.0970  -79.2353   \n",
       "3         Albany      US     89.28  42.6001  -73.9662   \n",
       "4    New Norfolk      AU     46.65 -42.7826  147.0587   \n",
       "..           ...     ...       ...      ...       ...   \n",
       "558         Zeya      RU     40.42  53.7500  127.2667   \n",
       "559        Naron      ES     63.68  43.5167   -8.1528   \n",
       "560          Leh      IN     46.71  34.1667   77.5833   \n",
       "561     Kalmunai      LK     83.12   7.4167   81.8167   \n",
       "562    Normandin      CA     71.91  48.8333  -72.5321   \n",
       "\n",
       "                               Hotel Name  \n",
       "0                        Vesolaya Mayovka  \n",
       "1                             Aklavik Inn  \n",
       "2          Hampton Inn & Suites Jamestown  \n",
       "3                                          \n",
       "4         The Shingles Riverside Cottages  \n",
       "..                                    ...  \n",
       "558                           Kapital Inn  \n",
       "559                               Marcial  \n",
       "560                   Hotel Ladakh Greens  \n",
       "561                              VS Villa  \n",
       "562  Chambres MB Normandin (Lac St -Jean)  \n",
       "\n",
       "[563 rows x 6 columns]"
      ],
      "text/html": "<div>\n<style scoped>\n    .dataframe tbody tr th:only-of-type {\n        vertical-align: middle;\n    }\n\n    .dataframe tbody tr th {\n        vertical-align: top;\n    }\n\n    .dataframe thead th {\n        text-align: right;\n    }\n</style>\n<table border=\"1\" class=\"dataframe\">\n  <thead>\n    <tr style=\"text-align: right;\">\n      <th></th>\n      <th>City</th>\n      <th>Country</th>\n      <th>Max Temp</th>\n      <th>Lat</th>\n      <th>Lng</th>\n      <th>Hotel Name</th>\n    </tr>\n  </thead>\n  <tbody>\n    <tr>\n      <th>0</th>\n      <td>Klyuchi</td>\n      <td>RU</td>\n      <td>82.76</td>\n      <td>52.2667</td>\n      <td>79.1667</td>\n      <td>Vesolaya Mayovka</td>\n    </tr>\n    <tr>\n      <th>1</th>\n      <td>Aklavik</td>\n      <td>CA</td>\n      <td>34.52</td>\n      <td>68.2191</td>\n      <td>-135.0107</td>\n      <td>Aklavik Inn</td>\n    </tr>\n    <tr>\n      <th>2</th>\n      <td>Jamestown</td>\n      <td>US</td>\n      <td>80.02</td>\n      <td>42.0970</td>\n      <td>-79.2353</td>\n      <td>Hampton Inn &amp; Suites Jamestown</td>\n    </tr>\n    <tr>\n      <th>3</th>\n      <td>Albany</td>\n      <td>US</td>\n      <td>89.28</td>\n      <td>42.6001</td>\n      <td>-73.9662</td>\n      <td></td>\n    </tr>\n    <tr>\n      <th>4</th>\n      <td>New Norfolk</td>\n      <td>AU</td>\n      <td>46.65</td>\n      <td>-42.7826</td>\n      <td>147.0587</td>\n      <td>The Shingles Riverside Cottages</td>\n    </tr>\n    <tr>\n      <th>...</th>\n      <td>...</td>\n      <td>...</td>\n      <td>...</td>\n      <td>...</td>\n      <td>...</td>\n      <td>...</td>\n    </tr>\n    <tr>\n      <th>558</th>\n      <td>Zeya</td>\n      <td>RU</td>\n      <td>40.42</td>\n      <td>53.7500</td>\n      <td>127.2667</td>\n      <td>Kapital Inn</td>\n    </tr>\n    <tr>\n      <th>559</th>\n      <td>Naron</td>\n      <td>ES</td>\n      <td>63.68</td>\n      <td>43.5167</td>\n      <td>-8.1528</td>\n      <td>Marcial</td>\n    </tr>\n    <tr>\n      <th>560</th>\n      <td>Leh</td>\n      <td>IN</td>\n      <td>46.71</td>\n      <td>34.1667</td>\n      <td>77.5833</td>\n      <td>Hotel Ladakh Greens</td>\n    </tr>\n    <tr>\n      <th>561</th>\n      <td>Kalmunai</td>\n      <td>LK</td>\n      <td>83.12</td>\n      <td>7.4167</td>\n      <td>81.8167</td>\n      <td>VS Villa</td>\n    </tr>\n    <tr>\n      <th>562</th>\n      <td>Normandin</td>\n      <td>CA</td>\n      <td>71.91</td>\n      <td>48.8333</td>\n      <td>-72.5321</td>\n      <td>Chambres MB Normandin (Lac St -Jean)</td>\n    </tr>\n  </tbody>\n</table>\n<p>563 rows × 6 columns</p>\n</div>"
     },
     "metadata": {},
     "execution_count": 38
    }
   ],
   "source": [
    "hotel_df"
   ]
  },
  {
   "cell_type": "code",
   "execution_count": 43,
   "metadata": {},
   "outputs": [],
   "source": [
    "info_box_template = \"\"\"\n",
    "<dl>\n",
    "<dt>Hotel Name</dt><dd>{Hotel Name}</dd>\n",
    "<dt>City</dt><dd>{City}</dd>\n",
    "<dt>Country</dt><dd>{Country}</dd>\n",
    "<dt>Max Temp</dt><dd>{Max Temp} °F</dd>\n",
    "</dl>\n",
    "\"\"\""
   ]
  },
  {
   "cell_type": "code",
   "execution_count": 44,
   "metadata": {},
   "outputs": [],
   "source": [
    "# Store the DataFrame Row\n",
    "hotel_info = [info_box_template.format(**row) for index, row in hotel_df.iterrows()]"
   ]
  },
  {
   "cell_type": "code",
   "execution_count": 45,
   "metadata": {},
   "outputs": [
    {
     "output_type": "display_data",
     "data": {
      "text/plain": "Figure(layout=FigureLayout(height='420px'))",
      "application/vnd.jupyter.widget-view+json": {
       "version_major": 2,
       "version_minor": 0,
       "model_id": "bef9585f594f4f0fb71188ba8f9045bb"
      }
     },
     "metadata": {}
    }
   ],
   "source": [
    "# Add a heatmap of temperature for the vacation spots\n",
    "locations = hotel_df[['Lat','Lng']]\n",
    "max_temp = hotel_df['Max Temp']\n",
    "fig = gmaps.figure(center=(30.0,31.0), zoom_level=1.5)\n",
    "heat_layer = gmaps.heatmap_layer(locations, weights=max_temp, dissipating=False, max_intensity=300, point_radius=4)\n",
    "marker_layer = gmaps.marker_layer(locations, info_box_content=hotel_info)\n",
    "fig.add_layer(heat_layer)\n",
    "fig.add_layer(marker_layer)\n",
    "# Call the figure to plot the data\n",
    "fig"
   ]
  },
  {
   "cell_type": "code",
   "execution_count": null,
   "metadata": {},
   "outputs": [],
   "source": []
  }
 ]
}