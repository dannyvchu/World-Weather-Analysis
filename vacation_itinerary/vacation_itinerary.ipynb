{
 "cells": [
  {
   "cell_type": "markdown",
   "metadata": {},
   "source": [
    "## Deliverable 3. Create a Travel Itinerary Map."
   ]
  },
  {
   "cell_type": "code",
   "execution_count": 1,
   "metadata": {},
   "outputs": [],
   "source": [
    "# Dependencies and Setup\n",
    "import pandas as pd\n",
    "import requests\n",
    "import gmaps\n",
    "\n",
    "# Import API key\n",
    "from config import g_key\n",
    "\n",
    "# Configure gmaps\n",
    "gmaps.configure(api_key=g_key)"
   ]
  },
  {
   "cell_type": "code",
   "execution_count": 2,
   "metadata": {},
   "outputs": [
    {
     "output_type": "execute_result",
     "data": {
      "text/plain": [
       "   City_ID        City Country      Lat      Lng  Max Temp  \\\n",
       "0        6     Iqaluit      CA  63.7506 -68.5145     33.53   \n",
       "1        8     Qaanaaq      GL  77.4840 -69.3632     37.49   \n",
       "2       12    Goderich      CA  43.7501 -81.7165     49.21   \n",
       "3       17       Vardo      NO  70.3705  31.1107     37.42   \n",
       "4       19  Nanortalik      GL  60.1432 -45.2371     43.03   \n",
       "\n",
       "  Current Description        Hotel Name  \n",
       "0       broken clouds     Frobisher Inn  \n",
       "1     overcast clouds     Qaanaaq Hotel  \n",
       "2     overcast clouds       Harmony Inn  \n",
       "3       broken clouds    Vardø Hotel AS  \n",
       "4    scattered clouds  Hotel Kap Farvel  "
      ],
      "text/html": "<div>\n<style scoped>\n    .dataframe tbody tr th:only-of-type {\n        vertical-align: middle;\n    }\n\n    .dataframe tbody tr th {\n        vertical-align: top;\n    }\n\n    .dataframe thead th {\n        text-align: right;\n    }\n</style>\n<table border=\"1\" class=\"dataframe\">\n  <thead>\n    <tr style=\"text-align: right;\">\n      <th></th>\n      <th>City_ID</th>\n      <th>City</th>\n      <th>Country</th>\n      <th>Lat</th>\n      <th>Lng</th>\n      <th>Max Temp</th>\n      <th>Current Description</th>\n      <th>Hotel Name</th>\n    </tr>\n  </thead>\n  <tbody>\n    <tr>\n      <th>0</th>\n      <td>6</td>\n      <td>Iqaluit</td>\n      <td>CA</td>\n      <td>63.7506</td>\n      <td>-68.5145</td>\n      <td>33.53</td>\n      <td>broken clouds</td>\n      <td>Frobisher Inn</td>\n    </tr>\n    <tr>\n      <th>1</th>\n      <td>8</td>\n      <td>Qaanaaq</td>\n      <td>GL</td>\n      <td>77.4840</td>\n      <td>-69.3632</td>\n      <td>37.49</td>\n      <td>overcast clouds</td>\n      <td>Qaanaaq Hotel</td>\n    </tr>\n    <tr>\n      <th>2</th>\n      <td>12</td>\n      <td>Goderich</td>\n      <td>CA</td>\n      <td>43.7501</td>\n      <td>-81.7165</td>\n      <td>49.21</td>\n      <td>overcast clouds</td>\n      <td>Harmony Inn</td>\n    </tr>\n    <tr>\n      <th>3</th>\n      <td>17</td>\n      <td>Vardo</td>\n      <td>NO</td>\n      <td>70.3705</td>\n      <td>31.1107</td>\n      <td>37.42</td>\n      <td>broken clouds</td>\n      <td>Vardø Hotel AS</td>\n    </tr>\n    <tr>\n      <th>4</th>\n      <td>19</td>\n      <td>Nanortalik</td>\n      <td>GL</td>\n      <td>60.1432</td>\n      <td>-45.2371</td>\n      <td>43.03</td>\n      <td>scattered clouds</td>\n      <td>Hotel Kap Farvel</td>\n    </tr>\n  </tbody>\n</table>\n</div>"
     },
     "metadata": {},
     "execution_count": 2
    }
   ],
   "source": [
    "# 1. Read the WeatherPy_vacation.csv into a DataFrame.\n",
    "vacation_df = pd.read_csv(\"../vacation_search/weatherpy_vacation.csv\")\n",
    "vacation_df.head()"
   ]
  },
  {
   "cell_type": "code",
   "execution_count": 3,
   "metadata": {},
   "outputs": [],
   "source": [
    "# 2. Using the template add the city name, the country code, the weather description and maximum temperature for the city.\n",
    "info_box_template = \"\"\"\n",
    "<dl>\n",
    "<dt>City</dt><dd>{City}</dd>\n",
    "<dt>Country</dt><dd>{Country}</dd>\n",
    "<dt>Weather</dt><dd>{Current Description}</dd>\n",
    "<dt>Max Temp</dt><dd>{Max Temp}</dd>\n",
    "<dl>\n",
    "\"\"\"\n",
    "\n",
    "# 3a. Get the data from each row and add it to the formatting template and store the data in a list.\n",
    "hotel_info = [info_box_template.format(**row) for index, row in vacation_df.iterrows()]\n",
    "\n",
    "# 3b. Get the latitude and longitude from each row and store in a new DataFrame.\n",
    "locations = vacation_df[[\"Lat\", \"Lng\"]]"
   ]
  },
  {
   "cell_type": "code",
   "execution_count": 4,
   "metadata": {},
   "outputs": [
    {
     "output_type": "display_data",
     "data": {
      "text/plain": "Figure(layout=FigureLayout(height='420px'))",
      "application/vnd.jupyter.widget-view+json": {
       "version_major": 2,
       "version_minor": 0,
       "model_id": "5bdb24837dc1444dadd53387fb23a065"
      }
     },
     "metadata": {}
    }
   ],
   "source": [
    "# 4a. Add a marker layer for each city to the map.\n",
    "fig = gmaps.figure(center=(30.0,31.0), zoom_level=1.5)\n",
    "marker_layer = gmaps.marker_layer(locations, info_box_content=hotel_info)\n",
    "fig.add_layer(marker_layer)\n",
    "# 4b. Display the figure\n",
    "fig"
   ]
  },
  {
   "cell_type": "code",
   "execution_count": 5,
   "metadata": {},
   "outputs": [
    {
     "output_type": "execute_result",
     "data": {
      "text/plain": [
       "City_ID                            263\n",
       "Country                             IS\n",
       "Lat                            64.2539\n",
       "Lng                           -15.2082\n",
       "Max Temp                         43.25\n",
       "Current Description    overcast clouds\n",
       "Hotel Name                  Hótel Höfn\n",
       "Name: Hofn, dtype: object"
      ]
     },
     "metadata": {},
     "execution_count": 5
    }
   ],
   "source": [
    "# From the map above pick 4 cities and create a vacation itinerary route to travel between the four cities. \n",
    "# 5. Create DataFrames for each city by filtering the 'vacation_df' using the loc method. \n",
    "# Hint: The starting and ending city should be the same city.\n",
    "vacation_df = vacation_df.set_index('City')\n",
    "vacation_start = vacation_df.loc['Olafsvik']\n",
    "vacation_end = vacation_df.loc['Olafsvik']\n",
    "vacation_stop1 = vacation_df.loc['Grindavik']\n",
    "vacation_stop2 = vacation_df.loc['Vestmannaeyjar'] \n",
    "vacation_stop3 = vacation_df.loc['Hofn'] \n",
    "vacation_stop3"
   ]
  },
  {
   "cell_type": "code",
   "execution_count": 6,
   "metadata": {},
   "outputs": [
    {
     "output_type": "execute_result",
     "data": {
      "text/plain": [
       "array([64.2539, -15.2082], dtype=object)"
      ]
     },
     "metadata": {},
     "execution_count": 6
    }
   ],
   "source": [
    "# 6. Get the latitude-longitude pairs as tuples from each city DataFrame using the to_numpy function and list indexing.\n",
    "start = vacation_start[['Lat','Lng']].to_numpy()\n",
    "end = vacation_end[['Lat','Lng']].to_numpy()\n",
    "stop1 = vacation_stop1[['Lat','Lng']].to_numpy()\n",
    "stop2 = vacation_stop2[['Lat','Lng']].to_numpy()\n",
    "stop3 = vacation_stop3[['Lat','Lng']].to_numpy()\n",
    "stop3"
   ]
  },
  {
   "cell_type": "code",
   "execution_count": 7,
   "metadata": {
    "scrolled": true
   },
   "outputs": [
    {
     "output_type": "display_data",
     "data": {
      "text/plain": "Figure(layout=FigureLayout(height='420px'))",
      "application/vnd.jupyter.widget-view+json": {
       "version_major": 2,
       "version_minor": 0,
       "model_id": "5bdb24837dc1444dadd53387fb23a065"
      }
     },
     "metadata": {}
    }
   ],
   "source": [
    "# 7. Create a direction layer map using the start and end latitude-longitude pairs,\n",
    "# and stop1, stop2, and stop3 as the waypoints. The travel_mode should be \"DRIVING\", \"BICYCLING\", or \"WALKING\".\n",
    "waypoints = [stop1,stop2,stop3]\n",
    "direction_layer = gmaps.directions_layer(start, end, waypoints=waypoints, travel_mode='DRIVING')\n",
    "fig.add_layer(direction_layer)\n",
    "fig"
   ]
  },
  {
   "cell_type": "code",
   "execution_count": 10,
   "metadata": {},
   "outputs": [
    {
     "output_type": "execute_result",
     "data": {
      "text/plain": [
       "                City_ID Country      Lat      Lng  Max Temp  \\\n",
       "City                                                          \n",
       "Olafsvik             41      IS  64.8945 -23.7142     46.24   \n",
       "Grindavik           617      IS  63.8424 -22.4338     48.67   \n",
       "Vestmannaeyjar       87      IS  63.4427 -20.2734     45.34   \n",
       "Hofn                263      IS  64.2539 -15.2082     43.25   \n",
       "\n",
       "               Current Description                             Hotel Name  \n",
       "City                                                                       \n",
       "Olafsvik                 clear sky                         Hotel Olafsvik  \n",
       "Grindavik            broken clouds  Northern Light Inn & Max's Restaurant  \n",
       "Vestmannaeyjar       broken clouds                     Glamping & Camping  \n",
       "Hofn               overcast clouds                             Hótel Höfn  "
      ],
      "text/html": "<div>\n<style scoped>\n    .dataframe tbody tr th:only-of-type {\n        vertical-align: middle;\n    }\n\n    .dataframe tbody tr th {\n        vertical-align: top;\n    }\n\n    .dataframe thead th {\n        text-align: right;\n    }\n</style>\n<table border=\"1\" class=\"dataframe\">\n  <thead>\n    <tr style=\"text-align: right;\">\n      <th></th>\n      <th>City_ID</th>\n      <th>Country</th>\n      <th>Lat</th>\n      <th>Lng</th>\n      <th>Max Temp</th>\n      <th>Current Description</th>\n      <th>Hotel Name</th>\n    </tr>\n    <tr>\n      <th>City</th>\n      <th></th>\n      <th></th>\n      <th></th>\n      <th></th>\n      <th></th>\n      <th></th>\n      <th></th>\n    </tr>\n  </thead>\n  <tbody>\n    <tr>\n      <th>Olafsvik</th>\n      <td>41</td>\n      <td>IS</td>\n      <td>64.8945</td>\n      <td>-23.7142</td>\n      <td>46.24</td>\n      <td>clear sky</td>\n      <td>Hotel Olafsvik</td>\n    </tr>\n    <tr>\n      <th>Grindavik</th>\n      <td>617</td>\n      <td>IS</td>\n      <td>63.8424</td>\n      <td>-22.4338</td>\n      <td>48.67</td>\n      <td>broken clouds</td>\n      <td>Northern Light Inn &amp; Max's Restaurant</td>\n    </tr>\n    <tr>\n      <th>Vestmannaeyjar</th>\n      <td>87</td>\n      <td>IS</td>\n      <td>63.4427</td>\n      <td>-20.2734</td>\n      <td>45.34</td>\n      <td>broken clouds</td>\n      <td>Glamping &amp; Camping</td>\n    </tr>\n    <tr>\n      <th>Hofn</th>\n      <td>263</td>\n      <td>IS</td>\n      <td>64.2539</td>\n      <td>-15.2082</td>\n      <td>43.25</td>\n      <td>overcast clouds</td>\n      <td>Hótel Höfn</td>\n    </tr>\n  </tbody>\n</table>\n</div>"
     },
     "metadata": {},
     "execution_count": 10
    }
   ],
   "source": [
    "# 8. To create a marker layer map between the four cities.\n",
    "#  Combine the four city DataFrames into one DataFrame using the concat() function.\n",
    "start_df = vacation_df.loc[['Olafsvik']]\n",
    "stop1_df = vacation_df.loc[['Grindavik']]\n",
    "stop2_df = vacation_df.loc[['Vestmannaeyjar']] \n",
    "stop3_df = vacation_df.loc[['Hofn']]\n",
    "\n",
    "itinerary_df = pd.concat([start_df, stop1_df, stop2_df, stop3_df])\n",
    "itinerary_df"
   ]
  },
  {
   "cell_type": "code",
   "execution_count": null,
   "metadata": {},
   "outputs": [],
   "source": [
    "# 9 Using the template add city name, the country code, the weather description and maximum temperature for the city. \n",
    "info_box_template = \"\"\"\n",
    "\n",
    "\"\"\"\n",
    "\n",
    "# 10a Get the data from each row and add it to the formatting template and store the data in a list.\n",
    "hotel_info = [info_box_template.format(**row) for index, row in itinerary_df.iterrows()]\n",
    "\n",
    "# 10b. Get the latitude and longitude from each row and store in a new DataFrame.\n",
    "locations = itinerary_df[[\"Lat\", \"Lng\"]]"
   ]
  },
  {
   "cell_type": "code",
   "execution_count": null,
   "metadata": {},
   "outputs": [],
   "source": [
    "# 11a. Add a marker layer for each city to the map.\n",
    "\n",
    "# 11b. Display the figure\n"
   ]
  },
  {
   "cell_type": "code",
   "execution_count": null,
   "metadata": {},
   "outputs": [],
   "source": []
  }
 ],
 "metadata": {
  "kernelspec": {
   "name": "pythondata",
   "display_name": "Python 3.7.10 64-bit ('Pythondata': conda)"
  },
  "language_info": {
   "codemirror_mode": {
    "name": "ipython",
    "version": 3
   },
   "file_extension": ".py",
   "mimetype": "text/x-python",
   "name": "python",
   "nbconvert_exporter": "python",
   "pygments_lexer": "ipython3",
   "version": "3.7.10"
  },
  "latex_envs": {
   "LaTeX_envs_menu_present": true,
   "autoclose": false,
   "autocomplete": true,
   "bibliofile": "biblio.bib",
   "cite_by": "apalike",
   "current_citInitial": 1,
   "eqLabelWithNumbers": true,
   "eqNumInitial": 1,
   "hotkeys": {
    "equation": "Ctrl-E",
    "itemize": "Ctrl-I"
   },
   "labels_anchors": false,
   "latex_user_defs": false,
   "report_style_numbering": false,
   "user_envs_cfg": false
  }
 },
 "nbformat": 4,
 "nbformat_minor": 2
}