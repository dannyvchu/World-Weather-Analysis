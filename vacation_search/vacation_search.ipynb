{
 "cells": [
  {
   "cell_type": "markdown",
   "metadata": {},
   "source": [
    "## Deliverable 2. Create a Customer Travel Destinations Map."
   ]
  },
  {
   "cell_type": "code",
   "execution_count": 1,
   "metadata": {},
   "outputs": [],
   "source": [
    "# Dependencies and Setup\n",
    "import pandas as pd\n",
    "import requests\n",
    "import gmaps\n",
    "import numpy as np\n",
    "\n",
    "# Import API key\n",
    "from config import g_key\n",
    "\n",
    "# Configure gmaps API key\n",
    "gmaps.configure(api_key=g_key)"
   ]
  },
  {
   "cell_type": "code",
   "execution_count": 2,
   "metadata": {},
   "outputs": [
    {
     "output_type": "execute_result",
     "data": {
      "text/plain": [
       "   City_ID         City Country      Lat       Lng  Max Temp  Humidity  \\\n",
       "0        0     Lorengau      PG  -2.0226  147.2712     81.70        81   \n",
       "1        1  Port Alfred      ZA -33.5906   26.8910     60.30        81   \n",
       "2        2  East London      ZA -33.0153   27.9116     63.19        77   \n",
       "3        3   Shenjiamen      CN  29.9576  122.2980     69.08        94   \n",
       "4        4   Nikolskoye      RU  59.7035   30.7861     52.39        98   \n",
       "\n",
       "   Cloudiness  Wind Speed Current Description  \n",
       "0         100        6.35     overcast clouds  \n",
       "1          93       11.12     overcast clouds  \n",
       "2          72       11.90       broken clouds  \n",
       "3         100       14.14     overcast clouds  \n",
       "4          84        6.46       broken clouds  "
      ],
      "text/html": "<div>\n<style scoped>\n    .dataframe tbody tr th:only-of-type {\n        vertical-align: middle;\n    }\n\n    .dataframe tbody tr th {\n        vertical-align: top;\n    }\n\n    .dataframe thead th {\n        text-align: right;\n    }\n</style>\n<table border=\"1\" class=\"dataframe\">\n  <thead>\n    <tr style=\"text-align: right;\">\n      <th></th>\n      <th>City_ID</th>\n      <th>City</th>\n      <th>Country</th>\n      <th>Lat</th>\n      <th>Lng</th>\n      <th>Max Temp</th>\n      <th>Humidity</th>\n      <th>Cloudiness</th>\n      <th>Wind Speed</th>\n      <th>Current Description</th>\n    </tr>\n  </thead>\n  <tbody>\n    <tr>\n      <th>0</th>\n      <td>0</td>\n      <td>Lorengau</td>\n      <td>PG</td>\n      <td>-2.0226</td>\n      <td>147.2712</td>\n      <td>81.70</td>\n      <td>81</td>\n      <td>100</td>\n      <td>6.35</td>\n      <td>overcast clouds</td>\n    </tr>\n    <tr>\n      <th>1</th>\n      <td>1</td>\n      <td>Port Alfred</td>\n      <td>ZA</td>\n      <td>-33.5906</td>\n      <td>26.8910</td>\n      <td>60.30</td>\n      <td>81</td>\n      <td>93</td>\n      <td>11.12</td>\n      <td>overcast clouds</td>\n    </tr>\n    <tr>\n      <th>2</th>\n      <td>2</td>\n      <td>East London</td>\n      <td>ZA</td>\n      <td>-33.0153</td>\n      <td>27.9116</td>\n      <td>63.19</td>\n      <td>77</td>\n      <td>72</td>\n      <td>11.90</td>\n      <td>broken clouds</td>\n    </tr>\n    <tr>\n      <th>3</th>\n      <td>3</td>\n      <td>Shenjiamen</td>\n      <td>CN</td>\n      <td>29.9576</td>\n      <td>122.2980</td>\n      <td>69.08</td>\n      <td>94</td>\n      <td>100</td>\n      <td>14.14</td>\n      <td>overcast clouds</td>\n    </tr>\n    <tr>\n      <th>4</th>\n      <td>4</td>\n      <td>Nikolskoye</td>\n      <td>RU</td>\n      <td>59.7035</td>\n      <td>30.7861</td>\n      <td>52.39</td>\n      <td>98</td>\n      <td>84</td>\n      <td>6.46</td>\n      <td>broken clouds</td>\n    </tr>\n  </tbody>\n</table>\n</div>"
     },
     "metadata": {},
     "execution_count": 2
    }
   ],
   "source": [
    "# 1. Import the WeatherPy_database.csv file. \n",
    "city_data_df = pd.read_csv(\"../weather_database/weatherpy_database.csv\")\n",
    "city_data_df.head()"
   ]
  },
  {
   "cell_type": "code",
   "execution_count": 3,
   "metadata": {},
   "outputs": [],
   "source": [
    "# 2. Prompt the user to enter minimum and maximum temperature criteria \n",
    "min_temp = float(input('What is your perferred minimum temperature? '))\n",
    "max_temp = float(input('What is your preferred maximum temperature? '))"
   ]
  },
  {
   "cell_type": "code",
   "execution_count": 4,
   "metadata": {},
   "outputs": [
    {
     "output_type": "execute_result",
     "data": {
      "text/plain": [
       "    City_ID          City Country      Lat      Lng  Max Temp  Humidity  \\\n",
       "6         6       Iqaluit      CA  63.7506 -68.5145     33.53        74   \n",
       "8         8       Qaanaaq      GL  77.4840 -69.3632     37.49        75   \n",
       "12       12      Goderich      CA  43.7501 -81.7165     49.21        66   \n",
       "17       17         Vardo      NO  70.3705  31.1107     37.42        76   \n",
       "18       18  Polunochnoye      RU  60.8697  60.4153     37.00        62   \n",
       "\n",
       "    Cloudiness  Wind Speed Current Description  \n",
       "6           75       15.99       broken clouds  \n",
       "8          100        7.02     overcast clouds  \n",
       "12         100        8.05     overcast clouds  \n",
       "17          79       24.16       broken clouds  \n",
       "18          95        2.51     overcast clouds  "
      ],
      "text/html": "<div>\n<style scoped>\n    .dataframe tbody tr th:only-of-type {\n        vertical-align: middle;\n    }\n\n    .dataframe tbody tr th {\n        vertical-align: top;\n    }\n\n    .dataframe thead th {\n        text-align: right;\n    }\n</style>\n<table border=\"1\" class=\"dataframe\">\n  <thead>\n    <tr style=\"text-align: right;\">\n      <th></th>\n      <th>City_ID</th>\n      <th>City</th>\n      <th>Country</th>\n      <th>Lat</th>\n      <th>Lng</th>\n      <th>Max Temp</th>\n      <th>Humidity</th>\n      <th>Cloudiness</th>\n      <th>Wind Speed</th>\n      <th>Current Description</th>\n    </tr>\n  </thead>\n  <tbody>\n    <tr>\n      <th>6</th>\n      <td>6</td>\n      <td>Iqaluit</td>\n      <td>CA</td>\n      <td>63.7506</td>\n      <td>-68.5145</td>\n      <td>33.53</td>\n      <td>74</td>\n      <td>75</td>\n      <td>15.99</td>\n      <td>broken clouds</td>\n    </tr>\n    <tr>\n      <th>8</th>\n      <td>8</td>\n      <td>Qaanaaq</td>\n      <td>GL</td>\n      <td>77.4840</td>\n      <td>-69.3632</td>\n      <td>37.49</td>\n      <td>75</td>\n      <td>100</td>\n      <td>7.02</td>\n      <td>overcast clouds</td>\n    </tr>\n    <tr>\n      <th>12</th>\n      <td>12</td>\n      <td>Goderich</td>\n      <td>CA</td>\n      <td>43.7501</td>\n      <td>-81.7165</td>\n      <td>49.21</td>\n      <td>66</td>\n      <td>100</td>\n      <td>8.05</td>\n      <td>overcast clouds</td>\n    </tr>\n    <tr>\n      <th>17</th>\n      <td>17</td>\n      <td>Vardo</td>\n      <td>NO</td>\n      <td>70.3705</td>\n      <td>31.1107</td>\n      <td>37.42</td>\n      <td>76</td>\n      <td>79</td>\n      <td>24.16</td>\n      <td>broken clouds</td>\n    </tr>\n    <tr>\n      <th>18</th>\n      <td>18</td>\n      <td>Polunochnoye</td>\n      <td>RU</td>\n      <td>60.8697</td>\n      <td>60.4153</td>\n      <td>37.00</td>\n      <td>62</td>\n      <td>95</td>\n      <td>2.51</td>\n      <td>overcast clouds</td>\n    </tr>\n  </tbody>\n</table>\n</div>"
     },
     "metadata": {},
     "execution_count": 4
    }
   ],
   "source": [
    "# 3. Filter the city_data_df DataFrame using the input statements to create a new DataFrame using the loc method.\n",
    "filtered_df = city_data_df.loc[(city_data_df['Max Temp'] >= min_temp) & (city_data_df['Max Temp'] <= max_temp)]\n",
    "filtered_df.head()"
   ]
  },
  {
   "cell_type": "code",
   "execution_count": 5,
   "metadata": {},
   "outputs": [
    {
     "output_type": "execute_result",
     "data": {
      "text/plain": [
       "City_ID                138\n",
       "City                   138\n",
       "Country                138\n",
       "Lat                    138\n",
       "Lng                    138\n",
       "Max Temp               138\n",
       "Humidity               138\n",
       "Cloudiness             138\n",
       "Wind Speed             138\n",
       "Current Description    138\n",
       "dtype: int64"
      ]
     },
     "metadata": {},
     "execution_count": 5
    }
   ],
   "source": [
    "# 4a. Determine if there are any empty rows.\n",
    "filtered_df.count()"
   ]
  },
  {
   "cell_type": "code",
   "execution_count": 6,
   "metadata": {},
   "outputs": [
    {
     "output_type": "execute_result",
     "data": {
      "text/plain": [
       "City_ID                138\n",
       "City                   138\n",
       "Country                138\n",
       "Lat                    138\n",
       "Lng                    138\n",
       "Max Temp               138\n",
       "Humidity               138\n",
       "Cloudiness             138\n",
       "Wind Speed             138\n",
       "Current Description    138\n",
       "dtype: int64"
      ]
     },
     "metadata": {},
     "execution_count": 6
    }
   ],
   "source": [
    "# 4b. Drop any empty rows and create a new DataFrame that doesn’t have empty rows.\n",
    "filtered_df = filtered_df.dropna()\n",
    "filtered_df.count()"
   ]
  },
  {
   "cell_type": "code",
   "execution_count": 7,
   "metadata": {},
   "outputs": [
    {
     "output_type": "execute_result",
     "data": {
      "text/plain": [
       "             City Country      Lat       Lng  Max Temp Current Description  \\\n",
       "6         Iqaluit      CA  63.7506  -68.5145     33.53       broken clouds   \n",
       "8         Qaanaaq      GL  77.4840  -69.3632     37.49     overcast clouds   \n",
       "12       Goderich      CA  43.7501  -81.7165     49.21     overcast clouds   \n",
       "17          Vardo      NO  70.3705   31.1107     37.42       broken clouds   \n",
       "18   Polunochnoye      RU  60.8697   60.4153     37.00     overcast clouds   \n",
       "19     Nanortalik      GL  60.1432  -45.2371     43.03    scattered clouds   \n",
       "21  Mount Gambier      AU -37.8333  140.7667     49.91     overcast clouds   \n",
       "24        Mataura      NZ -46.1927  168.8643     49.48          light rain   \n",
       "25          Bluff      NZ -46.6000  168.3333     49.80     overcast clouds   \n",
       "32       Tasiilaq      GL  65.6145  -37.6368     41.16     overcast clouds   \n",
       "\n",
       "   Hotel Name  \n",
       "6              \n",
       "8              \n",
       "12             \n",
       "17             \n",
       "18             \n",
       "19             \n",
       "21             \n",
       "24             \n",
       "25             \n",
       "32             "
      ],
      "text/html": "<div>\n<style scoped>\n    .dataframe tbody tr th:only-of-type {\n        vertical-align: middle;\n    }\n\n    .dataframe tbody tr th {\n        vertical-align: top;\n    }\n\n    .dataframe thead th {\n        text-align: right;\n    }\n</style>\n<table border=\"1\" class=\"dataframe\">\n  <thead>\n    <tr style=\"text-align: right;\">\n      <th></th>\n      <th>City</th>\n      <th>Country</th>\n      <th>Lat</th>\n      <th>Lng</th>\n      <th>Max Temp</th>\n      <th>Current Description</th>\n      <th>Hotel Name</th>\n    </tr>\n  </thead>\n  <tbody>\n    <tr>\n      <th>6</th>\n      <td>Iqaluit</td>\n      <td>CA</td>\n      <td>63.7506</td>\n      <td>-68.5145</td>\n      <td>33.53</td>\n      <td>broken clouds</td>\n      <td></td>\n    </tr>\n    <tr>\n      <th>8</th>\n      <td>Qaanaaq</td>\n      <td>GL</td>\n      <td>77.4840</td>\n      <td>-69.3632</td>\n      <td>37.49</td>\n      <td>overcast clouds</td>\n      <td></td>\n    </tr>\n    <tr>\n      <th>12</th>\n      <td>Goderich</td>\n      <td>CA</td>\n      <td>43.7501</td>\n      <td>-81.7165</td>\n      <td>49.21</td>\n      <td>overcast clouds</td>\n      <td></td>\n    </tr>\n    <tr>\n      <th>17</th>\n      <td>Vardo</td>\n      <td>NO</td>\n      <td>70.3705</td>\n      <td>31.1107</td>\n      <td>37.42</td>\n      <td>broken clouds</td>\n      <td></td>\n    </tr>\n    <tr>\n      <th>18</th>\n      <td>Polunochnoye</td>\n      <td>RU</td>\n      <td>60.8697</td>\n      <td>60.4153</td>\n      <td>37.00</td>\n      <td>overcast clouds</td>\n      <td></td>\n    </tr>\n    <tr>\n      <th>19</th>\n      <td>Nanortalik</td>\n      <td>GL</td>\n      <td>60.1432</td>\n      <td>-45.2371</td>\n      <td>43.03</td>\n      <td>scattered clouds</td>\n      <td></td>\n    </tr>\n    <tr>\n      <th>21</th>\n      <td>Mount Gambier</td>\n      <td>AU</td>\n      <td>-37.8333</td>\n      <td>140.7667</td>\n      <td>49.91</td>\n      <td>overcast clouds</td>\n      <td></td>\n    </tr>\n    <tr>\n      <th>24</th>\n      <td>Mataura</td>\n      <td>NZ</td>\n      <td>-46.1927</td>\n      <td>168.8643</td>\n      <td>49.48</td>\n      <td>light rain</td>\n      <td></td>\n    </tr>\n    <tr>\n      <th>25</th>\n      <td>Bluff</td>\n      <td>NZ</td>\n      <td>-46.6000</td>\n      <td>168.3333</td>\n      <td>49.80</td>\n      <td>overcast clouds</td>\n      <td></td>\n    </tr>\n    <tr>\n      <th>32</th>\n      <td>Tasiilaq</td>\n      <td>GL</td>\n      <td>65.6145</td>\n      <td>-37.6368</td>\n      <td>41.16</td>\n      <td>overcast clouds</td>\n      <td></td>\n    </tr>\n  </tbody>\n</table>\n</div>"
     },
     "metadata": {},
     "execution_count": 7
    }
   ],
   "source": [
    "# 5a. Create DataFrame called hotel_df to store hotel names along with city, country, max temp, and coordinates.\n",
    "hotel_df = filtered_df[[\"City\", \"Country\", \"Lat\", \"Lng\", \"Max Temp\", \"Current Description\"]].copy()\n",
    "\n",
    "# 5b. Create a new column \"Hotel Name\"\n",
    "hotel_df[\"Hotel Name\"] = \"\"\n",
    "hotel_df.head(10)"
   ]
  },
  {
   "cell_type": "code",
   "execution_count": 8,
   "metadata": {
    "tags": []
   },
   "outputs": [
    {
     "output_type": "stream",
     "name": "stdout",
     "text": [
      "Hotel not found... skipping.\n",
      "Hotel not found... skipping.\n",
      "Hotel not found... skipping.\n",
      "Hotel not found... skipping.\n",
      "Hotel not found... skipping.\n",
      "Hotel not found... skipping.\n",
      "Hotel not found... skipping.\n",
      "Hotel not found... skipping.\n",
      "Hotel not found... skipping.\n",
      "Hotel not found... skipping.\n",
      "Hotel not found... skipping.\n",
      "Hotel not found... skipping.\n",
      "Hotel not found... skipping.\n",
      "Hotel not found... skipping.\n",
      "Hotel not found... skipping.\n",
      "Hotel not found... skipping.\n",
      "Hotel not found... skipping.\n",
      "Hotel not found... skipping.\n",
      "Hotel not found... skipping.\n",
      "Hotel not found... skipping.\n",
      "Hotel not found... skipping.\n",
      "Hotel not found... skipping.\n",
      "Hotel not found... skipping.\n",
      "Hotel not found... skipping.\n",
      "Hotel not found... skipping.\n"
     ]
    }
   ],
   "source": [
    "# 6a. Set parameters to search for hotels with 5000 meters.\n",
    "params = {\n",
    "    \"radius\": 5000,\n",
    "    \"type\": \"lodging\",\n",
    "    \"key\": g_key\n",
    "}\n",
    "\n",
    "# 6b. Iterate through the hotel DataFrame.\n",
    "for index, row in hotel_df.iterrows():\n",
    "    # 6c. Get latitude and longitude from DataFrame\n",
    "    lat = row['Lat']\n",
    "    lng = row['Lng']\n",
    "\n",
    "    params['location'] = f'{lat},{lng}'\n",
    "    \n",
    "    # 6d. Set up the base URL for the Google Directions API to get JSON data.\n",
    "    base_url = \"https://maps.googleapis.com/maps/api/place/nearbysearch/json\"\n",
    "\n",
    "    # 6e. Make request and retrieve the JSON data from the search. \n",
    "    request = requests.get(base_url, params=params).json()\n",
    "    request\n",
    "    # 6f. Get the first hotel from the results and store the name, if a hotel isn't found skip the city.\n",
    "    try:\n",
    "        hotel_df.loc[index, 'Hotel Name'] = request['results'][0]['name']\n",
    "    except(IndexError):\n",
    "        print('Hotel not found... skipping.')\n",
    "        hotel_df.loc[index, 'Hotel Name'] = np.nan\n",
    "        "
   ]
  },
  {
   "cell_type": "code",
   "execution_count": 9,
   "metadata": {},
   "outputs": [
    {
     "output_type": "execute_result",
     "data": {
      "text/plain": [
       "             City Country      Lat       Lng  Max Temp Current Description  \\\n",
       "6         Iqaluit      CA  63.7506  -68.5145     33.53       broken clouds   \n",
       "8         Qaanaaq      GL  77.4840  -69.3632     37.49     overcast clouds   \n",
       "12       Goderich      CA  43.7501  -81.7165     49.21     overcast clouds   \n",
       "17          Vardo      NO  70.3705   31.1107     37.42       broken clouds   \n",
       "19     Nanortalik      GL  60.1432  -45.2371     43.03    scattered clouds   \n",
       "21  Mount Gambier      AU -37.8333  140.7667     49.91     overcast clouds   \n",
       "24        Mataura      NZ -46.1927  168.8643     49.48          light rain   \n",
       "25          Bluff      NZ -46.6000  168.3333     49.80     overcast clouds   \n",
       "32       Tasiilaq      GL  65.6145  -37.6368     41.16     overcast clouds   \n",
       "37         Hobart      AU -42.8794  147.3294     46.92    scattered clouds   \n",
       "38         Barrow      US  71.2906 -156.7887     33.82     overcast clouds   \n",
       "41       Olafsvik      IS  64.8945  -23.7142     46.24           clear sky   \n",
       "43   Punta Arenas      CL -53.1500  -70.9167     28.51           clear sky   \n",
       "49   Krasnoselkup      RU  65.7000   82.4667     28.31     overcast clouds   \n",
       "54          Pevek      RU  69.7008  170.3133     37.58       broken clouds   \n",
       "\n",
       "                                       Hotel Name  \n",
       "6                                   Frobisher Inn  \n",
       "8                                   Qaanaaq Hotel  \n",
       "12                                    Harmony Inn  \n",
       "17                                 Vardø Hotel AS  \n",
       "19                               Hotel Kap Farvel  \n",
       "21                          Commodore on the Park  \n",
       "24                                  Ellie's Villa  \n",
       "25  Bluff Homestead - Guesthouse & Campervan Park  \n",
       "32                                  The Red House  \n",
       "37                       Mantra on Collins Hobart  \n",
       "38                                 King Eider Inn  \n",
       "41                                 Hotel Olafsvik  \n",
       "43                      Hotel Dreams Del Estrecho  \n",
       "49                      Krasnosel'kupnefteprodukt  \n",
       "54                                      Hotel ABC  "
      ],
      "text/html": "<div>\n<style scoped>\n    .dataframe tbody tr th:only-of-type {\n        vertical-align: middle;\n    }\n\n    .dataframe tbody tr th {\n        vertical-align: top;\n    }\n\n    .dataframe thead th {\n        text-align: right;\n    }\n</style>\n<table border=\"1\" class=\"dataframe\">\n  <thead>\n    <tr style=\"text-align: right;\">\n      <th></th>\n      <th>City</th>\n      <th>Country</th>\n      <th>Lat</th>\n      <th>Lng</th>\n      <th>Max Temp</th>\n      <th>Current Description</th>\n      <th>Hotel Name</th>\n    </tr>\n  </thead>\n  <tbody>\n    <tr>\n      <th>6</th>\n      <td>Iqaluit</td>\n      <td>CA</td>\n      <td>63.7506</td>\n      <td>-68.5145</td>\n      <td>33.53</td>\n      <td>broken clouds</td>\n      <td>Frobisher Inn</td>\n    </tr>\n    <tr>\n      <th>8</th>\n      <td>Qaanaaq</td>\n      <td>GL</td>\n      <td>77.4840</td>\n      <td>-69.3632</td>\n      <td>37.49</td>\n      <td>overcast clouds</td>\n      <td>Qaanaaq Hotel</td>\n    </tr>\n    <tr>\n      <th>12</th>\n      <td>Goderich</td>\n      <td>CA</td>\n      <td>43.7501</td>\n      <td>-81.7165</td>\n      <td>49.21</td>\n      <td>overcast clouds</td>\n      <td>Harmony Inn</td>\n    </tr>\n    <tr>\n      <th>17</th>\n      <td>Vardo</td>\n      <td>NO</td>\n      <td>70.3705</td>\n      <td>31.1107</td>\n      <td>37.42</td>\n      <td>broken clouds</td>\n      <td>Vardø Hotel AS</td>\n    </tr>\n    <tr>\n      <th>19</th>\n      <td>Nanortalik</td>\n      <td>GL</td>\n      <td>60.1432</td>\n      <td>-45.2371</td>\n      <td>43.03</td>\n      <td>scattered clouds</td>\n      <td>Hotel Kap Farvel</td>\n    </tr>\n    <tr>\n      <th>21</th>\n      <td>Mount Gambier</td>\n      <td>AU</td>\n      <td>-37.8333</td>\n      <td>140.7667</td>\n      <td>49.91</td>\n      <td>overcast clouds</td>\n      <td>Commodore on the Park</td>\n    </tr>\n    <tr>\n      <th>24</th>\n      <td>Mataura</td>\n      <td>NZ</td>\n      <td>-46.1927</td>\n      <td>168.8643</td>\n      <td>49.48</td>\n      <td>light rain</td>\n      <td>Ellie's Villa</td>\n    </tr>\n    <tr>\n      <th>25</th>\n      <td>Bluff</td>\n      <td>NZ</td>\n      <td>-46.6000</td>\n      <td>168.3333</td>\n      <td>49.80</td>\n      <td>overcast clouds</td>\n      <td>Bluff Homestead - Guesthouse &amp; Campervan Park</td>\n    </tr>\n    <tr>\n      <th>32</th>\n      <td>Tasiilaq</td>\n      <td>GL</td>\n      <td>65.6145</td>\n      <td>-37.6368</td>\n      <td>41.16</td>\n      <td>overcast clouds</td>\n      <td>The Red House</td>\n    </tr>\n    <tr>\n      <th>37</th>\n      <td>Hobart</td>\n      <td>AU</td>\n      <td>-42.8794</td>\n      <td>147.3294</td>\n      <td>46.92</td>\n      <td>scattered clouds</td>\n      <td>Mantra on Collins Hobart</td>\n    </tr>\n    <tr>\n      <th>38</th>\n      <td>Barrow</td>\n      <td>US</td>\n      <td>71.2906</td>\n      <td>-156.7887</td>\n      <td>33.82</td>\n      <td>overcast clouds</td>\n      <td>King Eider Inn</td>\n    </tr>\n    <tr>\n      <th>41</th>\n      <td>Olafsvik</td>\n      <td>IS</td>\n      <td>64.8945</td>\n      <td>-23.7142</td>\n      <td>46.24</td>\n      <td>clear sky</td>\n      <td>Hotel Olafsvik</td>\n    </tr>\n    <tr>\n      <th>43</th>\n      <td>Punta Arenas</td>\n      <td>CL</td>\n      <td>-53.1500</td>\n      <td>-70.9167</td>\n      <td>28.51</td>\n      <td>clear sky</td>\n      <td>Hotel Dreams Del Estrecho</td>\n    </tr>\n    <tr>\n      <th>49</th>\n      <td>Krasnoselkup</td>\n      <td>RU</td>\n      <td>65.7000</td>\n      <td>82.4667</td>\n      <td>28.31</td>\n      <td>overcast clouds</td>\n      <td>Krasnosel'kupnefteprodukt</td>\n    </tr>\n    <tr>\n      <th>54</th>\n      <td>Pevek</td>\n      <td>RU</td>\n      <td>69.7008</td>\n      <td>170.3133</td>\n      <td>37.58</td>\n      <td>broken clouds</td>\n      <td>Hotel ABC</td>\n    </tr>\n  </tbody>\n</table>\n</div>"
     },
     "metadata": {},
     "execution_count": 9
    }
   ],
   "source": [
    "# 7. Drop the rows where there is no Hotel Name.\n",
    "clean_hotel_df = hotel_df.dropna()\n",
    "clean_hotel_df.reset_index(drop=True)\n",
    "clean_hotel_df.head(15)"
   ]
  },
  {
   "cell_type": "code",
   "execution_count": 10,
   "metadata": {},
   "outputs": [],
   "source": [
    "# 8a. Create the output File (CSV)\n",
    "output_data_file = '../vacation_search/weatherpy_vacation.csv'\n",
    "# 8b. Export the City_Data into a csv\n",
    "clean_hotel_df.to_csv(output_data_file, index_label=\"City_ID\")"
   ]
  },
  {
   "cell_type": "code",
   "execution_count": 11,
   "metadata": {},
   "outputs": [],
   "source": [
    "# 9. Using the template add city name, the country code, the weather description and maximum temperature for the city.\n",
    "info_box_template = \"\"\"\n",
    "<dl>\n",
    "<dt>Hotel Name</dt><dd>{Hotel Name}</dd>\n",
    "<dt>City</dt><dd>{City}</dd>\n",
    "<dt>Country</dt><dd>{Country}</dd>\n",
    "<dt>Max Temp</dt><dd><{Max Temp} °F</dd>\n",
    "<dt>Weather</dt><dd>{Current Description}</dd>\n",
    "</dl>\n",
    "\"\"\"\n",
    "\n",
    "# 10a. Get the data from each row and add it to the formatting template and store the data in a list.\n",
    "hotel_info = [info_box_template.format(**row) for index, row in clean_hotel_df.iterrows()]\n",
    "\n",
    "# 10b. Get the latitude and longitude from each row and store in a new DataFrame.\n",
    "locations = clean_hotel_df[[\"Lat\", \"Lng\"]]"
   ]
  },
  {
   "cell_type": "code",
   "execution_count": 12,
   "metadata": {},
   "outputs": [
    {
     "output_type": "display_data",
     "data": {
      "text/plain": "Figure(layout=FigureLayout(height='420px'))",
      "application/vnd.jupyter.widget-view+json": {
       "version_major": 2,
       "version_minor": 0,
       "model_id": "7e2ae32a7a4c4744bb5cbfef699e4661"
      }
     },
     "metadata": {}
    }
   ],
   "source": [
    "# 11a. Add a marker layer for each city to the map. \n",
    "fig = gmaps.figure(center=(30.0,31.0), zoom_level=1.5)\n",
    "marker_layer = gmaps.marker_layer(locations, info_box_content=hotel_info)\n",
    "fig.add_layer(marker_layer)\n",
    "# 11b. Display the figure\n",
    "fig"
   ]
  },
  {
   "cell_type": "code",
   "execution_count": null,
   "metadata": {},
   "outputs": [],
   "source": []
  }
 ],
 "metadata": {
  "kernelspec": {
   "name": "python3710jvsc74a57bd0064c2f6ae82e1827bb1dc50e878586095c1ca24076ce372c7262e98a20b7c54a",
   "display_name": "Python 3.7.10 64-bit ('Pythondata': conda)"
  },
  "language_info": {
   "codemirror_mode": {
    "name": "ipython",
    "version": 3
   },
   "file_extension": ".py",
   "mimetype": "text/x-python",
   "name": "python",
   "nbconvert_exporter": "python",
   "pygments_lexer": "ipython3",
   "version": "3.7.10"
  },
  "latex_envs": {
   "LaTeX_envs_menu_present": true,
   "autoclose": false,
   "autocomplete": true,
   "bibliofile": "biblio.bib",
   "cite_by": "apalike",
   "current_citInitial": 1,
   "eqLabelWithNumbers": true,
   "eqNumInitial": 1,
   "hotkeys": {
    "equation": "Ctrl-E",
    "itemize": "Ctrl-I"
   },
   "labels_anchors": false,
   "latex_user_defs": false,
   "report_style_numbering": false,
   "user_envs_cfg": false
  }
 },
 "nbformat": 4,
 "nbformat_minor": 2
}